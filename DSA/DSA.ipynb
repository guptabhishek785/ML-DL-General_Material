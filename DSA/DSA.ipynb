{
  "nbformat": 4,
  "nbformat_minor": 0,
  "metadata": {
    "colab": {
      "provenance": [],
      "authorship_tag": "ABX9TyNBInSsqMSvV4cZ8Iaj7GSE",
      "include_colab_link": true
    },
    "kernelspec": {
      "name": "python3",
      "display_name": "Python 3"
    },
    "language_info": {
      "name": "python"
    }
  },
  "cells": [
    {
      "cell_type": "markdown",
      "metadata": {
        "id": "view-in-github",
        "colab_type": "text"
      },
      "source": [
        "<a href=\"https://colab.research.google.com/github/guptabhishek785/ML-DL-General_Material/blob/main/DSA/DSA.ipynb\" target=\"_parent\"><img src=\"https://colab.research.google.com/assets/colab-badge.svg\" alt=\"Open In Colab\"/></a>"
      ]
    },
    {
      "cell_type": "markdown",
      "source": [],
      "metadata": {
        "id": "PSwREIFNTVoY"
      }
    },
    {
      "cell_type": "markdown",
      "source": [
        "# Data Structure: Way to store and organize data efficiently\n",
        "\n",
        "- Linear Data Structure: If data is stored linearly\n",
        "e.g. array, linked list, stacks, queues, hashings\n",
        "- Non linear Data Structure: If data is stored non linearly\n",
        "e.g.Trees, Graphs"
      ],
      "metadata": {
        "id": "imsHYIZNTWit"
      }
    },
    {
      "cell_type": "markdown",
      "source": [
        "# Arrays: Linear DS used to store multiple item of **same type** in continuous memory location\n",
        "\n",
        "Deisadvantage:      \n",
        "- Fixed Size, Memory wastage\n",
        "- Homogeneous, lack of flexibility\n",
        "\n",
        "- Dynamic Arrays are arrays whose size can be increased dynamically. Dynamic arrays are made up of static arrays by producing a new static array of greater size every time a need arises\n",
        "\n",
        "\n",
        "- List is a referential array, which works on the principle of call by reference. i.e. the address of different values are stored in an array\n",
        "- List are heterogeneous but take more memory and slow\n",
        "- Lists are dynamic arrays"
      ],
      "metadata": {
        "id": "Q7T2IrSOU7bZ"
      }
    },
    {
      "cell_type": "code",
      "source": [
        "class my_list:\n",
        "\n",
        "  def __init__(self):\n",
        "\n",
        "    self.size = 1\n",
        "    self.n = 0\n",
        "\n",
        "    self.A = self.__make_array(self.size)"
      ],
      "metadata": {
        "id": "CgEYkW1Nhhyq"
      },
      "execution_count": null,
      "outputs": []
    },
    {
      "cell_type": "markdown",
      "source": [
        "# Searching Algorithms"
      ],
      "metadata": {
        "id": "CLT8MuZCbYmx"
      }
    },
    {
      "cell_type": "markdown",
      "source": [
        "1. Linear Search: Search every item via Brute Force\n",
        "\n",
        "\n",
        "- Time Complexity : O(N)\n",
        "- Positives: Dont need a sorted array     \n",
        "- Negaives: High time complexity"
      ],
      "metadata": {
        "id": "Kk36tulXjEdG"
      }
    },
    {
      "cell_type": "code",
      "source": [
        "def linear_search(arr, item):\n",
        "\n",
        "  for i in range(len(arr)):\n",
        "    if arr[i] == item:\n",
        "      return i\n",
        "\n",
        "  return -1"
      ],
      "metadata": {
        "id": "GR05OtXTjR8Y"
      },
      "execution_count": 1,
      "outputs": []
    },
    {
      "cell_type": "markdown",
      "source": [
        "2. Binary Search: Cut the array into half and search in only one half and discard the rest until you get the ans. Needs already sorted array to work\n",
        "\n",
        "- Time complexity: log(N)\n",
        "\n",
        "Note: if the array is not sorted then total time Complexity: nlog(N) + log(N). This is more than linear search, however since sorting needs to be done only once if the searching algo is performed again and again then by the concept of ammortized cost, the time complexity of binary search is less\n",
        "\n",
        "- K.n < nlog(N) + K.log(N) where searching is done K no of times and K is large\n",
        "\n",
        "\n",
        "- Positives: Time Efficient"
      ],
      "metadata": {
        "id": "BvsaeH7BkeDc"
      }
    },
    {
      "cell_type": "code",
      "source": [
        "def binary_search(arr, item, low, high):\n",
        "\n",
        "  if low <= high:\n",
        "\n",
        "    mid = (low + high)// 2\n",
        "\n",
        "    if arr[mid]  == item:\n",
        "      return mid\n",
        "\n",
        "    elif arr[mid] > item:\n",
        "      return binary_search(arr, item, low, mid - 1)\n",
        "    else:\n",
        "      return binary_search(arr, item, mid + 1, high)\n",
        "\n",
        "  else:\n",
        "    return -1"
      ],
      "metadata": {
        "id": "GP_EsqkTk1wG"
      },
      "execution_count": 5,
      "outputs": []
    },
    {
      "cell_type": "markdown",
      "source": [
        "# Sorting Algorithms"
      ],
      "metadata": {
        "id": "TWcgoU72cFhT"
      }
    },
    {
      "cell_type": "markdown",
      "source": [
        "**- Adaptive Algortithms**: A sorting algorithm is adaptive if it takes into advantage the existing order of its input     \n",
        "\n",
        "**- Stable Algorithms**: if two object with equal keys appear in the same order in sorted output as they appear in the input, the algorithm is stable. i.e. if the order is maintained for equal keys that is keys that have the same value"
      ],
      "metadata": {
        "id": "y3F0BxaIvOsQ"
      }
    },
    {
      "cell_type": "code",
      "execution_count": 20,
      "metadata": {
        "id": "TI5sxPxsi8P0"
      },
      "outputs": [],
      "source": [
        "# Check for sorting\n",
        "\n",
        "def is_sorted(arr):\n",
        "\n",
        "  sorted = True\n",
        "\n",
        "  for i in range(len(arr) - 1):\n",
        "\n",
        "    if arr[i] > arr[i+1]:\n",
        "      sorted = False\n",
        "\n",
        "  return sorted"
      ]
    },
    {
      "cell_type": "markdown",
      "source": [
        "1. Monkey Sort: Randomly try to see if the the array is sorted\n",
        "\n",
        "- Time Complexity = Infinity\n"
      ],
      "metadata": {
        "id": "0Hq0koxkoKPw"
      }
    },
    {
      "cell_type": "code",
      "source": [
        "def monkey_sort(arr):\n",
        "\n",
        "  import random\n",
        "\n",
        "  while not is_sorted(arr):\n",
        "    random.shuffle(arr)\n",
        "  return arr\n"
      ],
      "metadata": {
        "id": "5fLFiWmpk15V"
      },
      "execution_count": 23,
      "outputs": []
    },
    {
      "cell_type": "markdown",
      "source": [
        "2. Bubble Sort: Brute Force approach to repeatedly swapping the adjacent elements if they are in the wrong order\n",
        "\n",
        "- if n items in an array     \n",
        "- No of loops = n - 1      \n",
        "- No of comparisons = No of swaps = n(n-1)/2      \n",
        "- Time Complexity = No of comparisons = O(N.N)\n",
        "- Space Complexity = O(1)   \n",
        "- Stable: Yes      \n",
        "- Adaptive = No (since comparisons = const), but can be made adaptive"
      ],
      "metadata": {
        "id": "bOOqKyokrwK0"
      }
    },
    {
      "cell_type": "code",
      "source": [
        "def non_adapt_bubble_sort(arr):\n",
        "\n",
        "  for i in range(len(arr)-1):\n",
        "    for j in range(len(arr)-1 - i):\n",
        "      if arr[j] > arr[j+1]:\n",
        "        arr[j], arr[j+1] = arr[j+1], arr[j]\n",
        "\n",
        "  return arr\n",
        "\n",
        "\n",
        "\n",
        "def bubble_sort(arr):\n",
        "\n",
        "  for i in range(len(arr)-1):\n",
        "    flag = 0\n",
        "    for j in range(len(arr)-1 - i):\n",
        "      if arr[j] > arr[j+1]:\n",
        "        arr[j], arr[j+1] = arr[j+1], arr[j]\n",
        "        flag = 1\n",
        "\n",
        "    if flag == 0:\n",
        "      break\n",
        "\n",
        "  return arr\n",
        "\n"
      ],
      "metadata": {
        "id": "YKLe0QSzslQr"
      },
      "execution_count": 76,
      "outputs": []
    },
    {
      "cell_type": "markdown",
      "source": [
        "3. Selection Sort: Very similar to Bubble Sort (except , you try to find the samllest value. Although selection sort is faster than bubble sort because of less swaps\n",
        "\n",
        "\n",
        "- if n items in an array     \n",
        "- No of loops = n - 1\n",
        "- No of swaps = n -1 = O(N)      \n",
        "- No of comparisons = n(n-1)/2      \n",
        "- Time Complexity = No of comparisons = O(N.N)     \n",
        "- Space Complexity = O(1)     \n",
        "- Stable: No        \n",
        "- Adaptive = No. Thus bubble sort performs better in best case\n",
        "\n",
        "\n",
        "- Positives: Slightly faster and after every pass you get a small sorted array"
      ],
      "metadata": {
        "id": "xS_e0toay0CB"
      }
    },
    {
      "cell_type": "code",
      "source": [
        "def selection_sort(arr):\n",
        "\n",
        "  for i in range(len( arr) - 1):\n",
        "\n",
        "    min = i\n",
        "    for j in range(i+1, len(arr)):\n",
        "\n",
        "      if arr[j] < arr[min]:\n",
        "        min = j\n",
        "\n",
        "    arr[i], arr[min] = arr[min], arr[i]\n",
        "\n",
        "  return arr\n"
      ],
      "metadata": {
        "id": "3q6Q80MG2m-_"
      },
      "execution_count": 47,
      "outputs": []
    },
    {
      "cell_type": "markdown",
      "source": [
        "4. Merge Sort: works on the principle of Divide and Conquer. First we divide the array into equal parts repeatedly till we arrive at the smallest no and then merge upwards by sorting\n",
        "\n",
        "- Time Complexity = O(nlogn)\n",
        "- Space Complexity = o(n) ... for the efficient one    \n",
        "- Adaptive = No     \n",
        "- Stable = Yes"
      ],
      "metadata": {
        "id": "osfzFtfA6ZqL"
      }
    },
    {
      "cell_type": "code",
      "source": [
        "def merged_sort(arr1, arr2):\n",
        "\n",
        "  i = j = 0\n",
        "  merged = []\n",
        "\n",
        "  while i < len(arr1) and j < len(arr2):\n",
        "\n",
        "    if arr1[i] < arr2[j]:\n",
        "      merged.append(arr1[i])\n",
        "      i+=1\n",
        "\n",
        "    else:\n",
        "      merged.append(arr2[j])\n",
        "      j+=1\n",
        "\n",
        "  while i < len(arr1):\n",
        "    merged.append(arr1[i])\n",
        "    i+=1\n",
        "\n",
        "  while j < len(arr2):\n",
        "    merged.append(arr2[j])\n",
        "    j+=1\n",
        "\n",
        "  return merged"
      ],
      "metadata": {
        "id": "tyvGAgTUSamG"
      },
      "execution_count": 59,
      "outputs": []
    },
    {
      "cell_type": "code",
      "source": [
        "def merge_sort(arr):\n",
        "\n",
        "  # function to merge sorted arrays\n",
        "  def merged_sort(arr1, arr2):\n",
        "\n",
        "    i = j = 0\n",
        "    merged = []\n",
        "\n",
        "    while i < len(arr1) and j < len(arr2):\n",
        "\n",
        "      if arr1[i] < arr2[j]:\n",
        "        merged.append(arr1[i])\n",
        "        i+=1\n",
        "\n",
        "      else:\n",
        "        merged.append(arr2[j])\n",
        "        j+=1\n",
        "\n",
        "    while i < len(arr1):\n",
        "      merged.append(arr1[i])\n",
        "      i+=1\n",
        "\n",
        "    while j < len(arr2):\n",
        "      merged.append(arr2[j])\n",
        "      j+=1\n",
        "\n",
        "    return merged\n",
        "\n",
        "\n",
        "  # already sorted\n",
        "  if len(arr) == 1:\n",
        "    return arr\n",
        "\n",
        "  mid = len(arr)//2\n",
        "  left = arr[: mid]\n",
        "  right = arr[mid:]\n",
        "\n",
        "  left = merge_sort(left)\n",
        "  right = merge_sort(right)\n",
        "\n",
        "  return merged_sort(left, right)"
      ],
      "metadata": {
        "id": "uKPdy7qgTFxU"
      },
      "execution_count": 66,
      "outputs": []
    },
    {
      "cell_type": "code",
      "source": [
        "def space_merge_sort(arr):\n",
        "\n",
        "  # function to merge sorted arrays\n",
        "  def merged_sort(arr1, arr, arr):\n",
        "\n",
        "    i = j = k = 0\n",
        "\n",
        "    while i < len(arr1) and j < len(arr2):\n",
        "\n",
        "      if arr1[i] < arr2[j]:\n",
        "        arr[k] = arr1[i]\n",
        "        i+=1\n",
        "\n",
        "      else:\n",
        "        arr[k] = arr2[j]\n",
        "        j+=1\n",
        "\n",
        "      k += 1\n",
        "\n",
        "    while i < len(arr1):\n",
        "      arr[k] = arr1[i]\n",
        "      i+=1\n",
        "      k+=1\n",
        "\n",
        "    while j < len(arr2):\n",
        "      arr[k] = arr2[j]\n",
        "      j+=1\n",
        "      k+=1\n",
        "\n",
        "    return\n",
        "\n",
        "\n",
        "  # already sorted\n",
        "  if len(arr) == 1:\n",
        "    return arr\n",
        "\n",
        "  mid = len(arr)//2\n",
        "  left = arr[: mid]\n",
        "  right = arr[mid:]\n",
        "\n",
        "  merge_sort(left)\n",
        "  merge_sort(right)\n",
        "\n",
        "  merged_sort(left, right, arr)"
      ],
      "metadata": {
        "id": "q_c1UWotZsRa",
        "outputId": "68f7d0b6-4c18-420a-ae47-aa1b3c1750ce",
        "colab": {
          "base_uri": "https://localhost:8080/",
          "height": 140
        }
      },
      "execution_count": 74,
      "outputs": [
        {
          "output_type": "error",
          "ename": "SyntaxError",
          "evalue": "duplicate argument 'arr' in function definition (<ipython-input-74-8d3bec92c343>, line 4)",
          "traceback": [
            "\u001b[0;36m  File \u001b[0;32m\"<ipython-input-74-8d3bec92c343>\"\u001b[0;36m, line \u001b[0;32m4\u001b[0m\n\u001b[0;31m    def merged_sort(arr1, arr, arr):\u001b[0m\n\u001b[0m                               ^\u001b[0m\n\u001b[0;31mSyntaxError\u001b[0m\u001b[0;31m:\u001b[0m duplicate argument 'arr' in function definition\n"
          ]
        }
      ]
    },
    {
      "cell_type": "code",
      "source": [
        "def toy_merged_sort(arr1, arr2):\n",
        "\n",
        "  i = j = 0\n",
        "  merged = []\n",
        "\n",
        "  while i < len(arr1) or j < len(arr2):\n",
        "\n",
        "    if arr1[i] < arr2[j] or  i != len(arr1):\n",
        "      merged.append(arr1[i])\n",
        "      i+=1\n",
        "\n",
        "    else:\n",
        "      merged.append(arr2[j])\n",
        "      j+=1\n",
        "\n",
        "  # while i < len(arr1):\n",
        "  #   merged.append(arr1[i])\n",
        "\n",
        "  return merged"
      ],
      "metadata": {
        "id": "TkSsP5jut8zZ"
      },
      "execution_count": 55,
      "outputs": []
    }
  ]
}