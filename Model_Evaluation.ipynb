{
  "nbformat": 4,
  "nbformat_minor": 0,
  "metadata": {
    "colab": {
      "provenance": []
    },
    "kernelspec": {
      "name": "python3",
      "display_name": "Python 3"
    },
    "language_info": {
      "name": "python"
    }
  },
  "cells": [
    {
      "cell_type": "markdown",
      "source": [
        "Insights\n",
        "\n",
        "- Accuracy Performs poorly in imbalanced dataset"
      ],
      "metadata": {
        "id": "Y3k3MjjduI_d"
      }
    },
    {
      "cell_type": "code",
      "source": [
        "import seaborn as sns\n",
        "import matplotlib.pyplot as plt\n",
        "from sklearn.metrics import *\n",
        "\n",
        "\n",
        "y_test = ['Yes', 'Yes', 'No', 'Yes', 'No', 'No', 'Yes', 'No', 'Yes', 'Yes']\n",
        "y_pred = ['Yes', 'Yes', 'No', 'No', 'No', 'No', 'No', 'Yes', 'Yes', 'Yes']"
      ],
      "metadata": {
        "id": "dmpfszDEucTT"
      },
      "execution_count": 23,
      "outputs": []
    },
    {
      "cell_type": "markdown",
      "source": [
        "### Accuracy, precision, recall, and F1-score"
      ],
      "metadata": {
        "id": "cUGkrW3Btblh"
      }
    },
    {
      "cell_type": "code",
      "execution_count": 24,
      "metadata": {
        "colab": {
          "base_uri": "https://localhost:8080/"
        },
        "id": "g7CdwBBNtLog",
        "outputId": "0547235f-e613-4566-950a-4a7f7bee6d4b"
      },
      "outputs": [
        {
          "output_type": "stream",
          "name": "stdout",
          "text": [
            "Accuracy: 0.7\n",
            "Precision: 0.8\n",
            "Recall: 0.6666666666666666\n",
            "F1 Score: 0.7272727272727272\n"
          ]
        }
      ],
      "source": [
        "# Accuracy, precision, recall, and F1-score\n",
        "\n",
        "# y_pred = clf.predict(X_test)\n",
        "\n",
        "# Calculate Accuracy, precision, recall, and F1-score\n",
        "print(f'Accuracy: {accuracy_score(y_test, y_pred)}')\n",
        "print(f\"Precision: {precision_score(y_test, y_pred, pos_label='Yes')}\")\n",
        "print(f\"Recall: {recall_score(y_test, y_pred, pos_label='Yes')}\")\n",
        "print(f\"F1 Score: {f1_score(y_test, y_pred, pos_label='Yes')}\")"
      ]
    },
    {
      "cell_type": "markdown",
      "source": [
        "### Confusion Matrix"
      ],
      "metadata": {
        "id": "mOnCC3cRtq3N"
      }
    },
    {
      "cell_type": "code",
      "source": [
        "# Confusion Matrix\n",
        "\n",
        "# Calculate confusion matrix\n",
        "cm = confusion_matrix(y_test, y_pred)\n",
        "\n",
        "# Create a heatmap\n",
        "sns.set(font_scale=1.2)  # Adjust font size for better readability\n",
        "sns.heatmap(cm, annot=True, fmt=\"d\", cmap=\"Blues\",\n",
        "            xticklabels=['No', 'Yes'], yticklabels=['No', 'Yes'],\n",
        "            cbar=False, annot_kws={\"size\": 14})\n",
        "\n",
        "plt.xlabel('Predicted')\n",
        "plt.ylabel('True')\n",
        "plt.title('Confusion Matrix')\n",
        "\n",
        "plt.show()"
      ],
      "metadata": {
        "colab": {
          "base_uri": "https://localhost:8080/",
          "height": 485
        },
        "id": "p12ZQOzctYld",
        "outputId": "8b5d234f-e9e6-4046-f459-f4d1b522c23c"
      },
      "execution_count": 25,
      "outputs": [
        {
          "output_type": "display_data",
          "data": {
            "text/plain": [
              "<Figure size 640x480 with 1 Axes>"
            ],
            "image/png": "[encoded data removed]"
          },
          "metadata": {}
        }
      ]
    },
    {
      "cell_type": "markdown",
      "source": [
        "### Classification Report"
      ],
      "metadata": {
        "id": "7edRTnspt08w"
      }
    },
    {
      "cell_type": "code",
      "source": [
        "print(classification_report(y_test, y_pred))"
      ],
      "metadata": {
        "colab": {
          "base_uri": "https://localhost:8080/"
        },
        "id": "YzsbRT0GtsIc",
        "outputId": "1df3f22a-78d3-4e67-dede-cd9a21948225"
      },
      "execution_count": 26,
      "outputs": [
        {
          "output_type": "stream",
          "name": "stdout",
          "text": [
            "              precision    recall  f1-score   support\n",
            "\n",
            "          No       0.60      0.75      0.67         4\n",
            "         Yes       0.80      0.67      0.73         6\n",
            "\n",
            "    accuracy                           0.70        10\n",
            "   macro avg       0.70      0.71      0.70        10\n",
            "weighted avg       0.72      0.70      0.70        10\n",
            "\n"
          ]
        }
      ]
    },
    {
      "cell_type": "code",
      "source": [],
      "metadata": {
        "id": "GgBLpEQWyej6"
      },
      "execution_count": null,
      "outputs": []
    }
  ]
}