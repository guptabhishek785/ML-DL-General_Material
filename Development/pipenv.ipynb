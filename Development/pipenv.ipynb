{
  "nbformat": 4,
  "nbformat_minor": 0,
  "metadata": {
    "colab": {
      "provenance": [],
      "authorship_tag": "ABX9TyPQHuySZV6i+KCbrAxEeG4B",
      "include_colab_link": true
    },
    "kernelspec": {
      "name": "python3",
      "display_name": "Python 3"
    },
    "language_info": {
      "name": "python"
    }
  },
  "cells": [
    {
      "cell_type": "markdown",
      "metadata": {
        "id": "view-in-github",
        "colab_type": "text"
      },
      "source": [
        "<a href=\"https://colab.research.google.com/github/guptabhishek785/ML-DL-General_Material/blob/main/Development/pipenv.ipynb\" target=\"_parent\"><img src=\"https://colab.research.google.com/assets/colab-badge.svg\" alt=\"Open In Colab\"/></a>"
      ]
    },
    {
      "cell_type": "markdown",
      "source": [
        "pipenv: pip + virtaul env\n",
        "Note: use pipenv similar to pip\n",
        "\n",
        "Imp files:\n",
        "- pipfile: can be edited as per requirements. similar to requirements.txt file\n",
        "- pipfile.lock: avoid editing. Used fill shipping to production"
      ],
      "metadata": {
        "id": "eTDFYiaxQLdr"
      }
    },
    {
      "cell_type": "markdown",
      "source": [
        "# Pipenv Cheat Sheet\n",
        "\n",
        "## Install pipenv\n",
        "```\n",
        "pip3 install pipenv\n",
        "```\n",
        "## Creating a virtual env:\n",
        "```\n",
        "pipenv install <package-name>\n",
        "```\n",
        "Note: pip checks if an environment is already created and if not creates on automatically. You still need to activate the env\n",
        "\n",
        "## Activate Virtual Environment\n",
        "```\n",
        "pipenv shell\n",
        "```\n",
        "## Check version of Python\n",
        "```\n",
        "python --version\n",
        "```\n",
        "## Check path\n",
        "```\n",
        "python\n",
        ">>> import sys\n",
        ">>> sys.executable\n",
        "quit()\n",
        "```\n",
        "\n",
        "## Running a python script\n",
        "```\n",
        "pipenv run python scripts.py\n",
        "```\n",
        "## Install a package\n",
        "```\n",
        "pipenv install camelcase\n",
        "```\n",
        "## UnInstall a package\n",
        "```\n",
        "pipenv uninstall camelcase\n",
        "```\n",
        "\n",
        "## Check local packages\n",
        "Used to create requirements.txt file\n",
        "```\n",
        "pipenv lock -r\n",
        "```\n",
        "## Uninstall a package\n",
        "```\n",
        "pipenv uninstall camelcase\n",
        "```\n",
        "## Install a dev package\n",
        "This installs the packages in development but does not add to the pipfile when shipping for production\n",
        "```\n",
        "pipenv install <package> --dev\n",
        "```\n",
        "## Install from requirements.txt\n",
        "```\n",
        "pipenv install -r ./requirements.txt\n",
        "```\n",
        "## Check security vulnerabilities\n",
        "```\n",
        "pipenv check\n",
        "```\n",
        "## Check dependency graph\n",
        "```\n",
        "pipenv graph\n",
        "```\n",
        "## Ignore pipfile\n",
        "```\n",
        "pipenv install --ignore-pipfile\n",
        "```\n",
        "## Set lockfile - before deployment:\n",
        "used to update all dependencies of Pipfile.lock to their latest resolved versions based on your Pipfile specification.\n",
        "```\n",
        "pipenv lock\n",
        "```\n",
        "## Exiting the virtualenv & Deactivate\n",
        "```\n",
        "exit()\n",
        "```\n",
        "## Run with pipenv\n",
        "```\n",
        "pipenv run *\n",
        "```\n",
        "\n",
        "## Check virtual environment path\n",
        "```\n",
        "pipenv --venv\n",
        "```\n",
        "## To remove the virtual environment completely\n",
        "Note: pipfile is not deleted and can be used again to recreate the same environment if needed\n",
        "```\n",
        "pipenv --rm\n",
        "```\n",
        "\n",
        "## To recreate the environment using pipfile\n",
        "```\n",
        "pipenv install\n",
        "```"
      ],
      "metadata": {
        "id": "rElvDBmnPEgG"
      }
    },
    {
      "cell_type": "code",
      "source": [],
      "metadata": {
        "id": "nqSLTjrZPFjm"
      },
      "execution_count": null,
      "outputs": []
    }
  ]
}
