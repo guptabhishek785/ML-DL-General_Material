{
  "nbformat": 4,
  "nbformat_minor": 0,
  "metadata": {
    "colab": {
      "provenance": [],
      "mount_file_id": "1BYbvm3-QqKhQT6EvsEbiB433AEJZNcNP",
      "authorship_tag": "ABX9TyNVxjTFI2gzAc2GtkOvWViD",
      "include_colab_link": true
    },
    "kernelspec": {
      "name": "python3",
      "display_name": "Python 3"
    },
    "language_info": {
      "name": "python"
    }
  },
  "cells": [
    {
      "cell_type": "markdown",
      "metadata": {
        "id": "view-in-github",
        "colab_type": "text"
      },
      "source": [
        "<a href=\"https://colab.research.google.com/github/guptabhishek785/ML-DL-General_Material/blob/main/NLP/Gensim_word2vec.ipynb\" target=\"_parent\"><img src=\"https://colab.research.google.com/assets/colab-badge.svg\" alt=\"Open In Colab\"/></a>"
      ]
    },
    {
      "cell_type": "code",
      "execution_count": null,
      "metadata": {
        "id": "jgxvbFevl7rW"
      },
      "outputs": [],
      "source": [
        "## Training on your own Data"
      ]
    },
    {
      "cell_type": "code",
      "source": [
        "from google.colab import drive\n",
        "drive.mount('/content/drive/')\n",
        "\n",
        "path = '/content/drive/MyDrive/Colab Notebooks/data'"
      ],
      "metadata": {
        "colab": {
          "base_uri": "https://localhost:8080/"
        },
        "id": "TiFPk35CKwQ3",
        "outputId": "e11d8675-aa96-486b-f96f-e6741cd408ae"
      },
      "execution_count": null,
      "outputs": [
        {
          "output_type": "stream",
          "name": "stdout",
          "text": [
            "Drive already mounted at /content/drive/; to attempt to forcibly remount, call drive.mount(\"/content/drive/\", force_remount=True).\n"
          ]
        }
      ]
    },
    {
      "cell_type": "code",
      "source": [
        "\n",
        "## Importing dependencies\n",
        "\n",
        "import os\n",
        "import numpy as np\n",
        "import pandas as pd\n",
        "\n",
        "import gensim\n",
        "from gensim.models import word2vec, KeyedVectors"
      ],
      "metadata": {
        "id": "Hknav8TbmkNF"
      },
      "execution_count": null,
      "outputs": []
    },
    {
      "cell_type": "code",
      "source": [
        "import nltk\n",
        "nltk.download('punkt')\n",
        "from nltk import sent_tokenize\n",
        "from gensim.utils import simple_preprocess\n",
        "\n",
        "data_folder = '/content/drive/MyDrive/Colab Notebooks/data/'\n",
        "\n",
        "story = []\n",
        "for filename in os.listdir(data_folder):\n",
        "    with open(os.path.join(data_folder, filename), 'r', encoding='latin-1') as f:\n",
        "        corpus = f.read()\n",
        "        raw_sent = nltk.sent_tokenize(corpus)\n",
        "        for sent in raw_sent:\n",
        "            story.append(simple_preprocess(sent))\n"
      ],
      "metadata": {
        "colab": {
          "base_uri": "https://localhost:8080/"
        },
        "id": "AREcgFCnnhq-",
        "outputId": "f66e9b6b-c3d0-4302-994a-48a4dcd0d323"
      },
      "execution_count": null,
      "outputs": [
        {
          "output_type": "stream",
          "name": "stderr",
          "text": [
            "[nltk_data] Downloading package punkt to /root/nltk_data...\n",
            "[nltk_data]   Package punkt is already up-to-date!\n"
          ]
        }
      ]
    },
    {
      "cell_type": "code",
      "source": [
        "## Hyperparameters of the model\n",
        "\n",
        "model = gensim.models.Word2Vec(\n",
        "    window=10,\n",
        "    min_count=2\n",
        ")"
      ],
      "metadata": {
        "id": "SHiSccNMsRhJ"
      },
      "execution_count": null,
      "outputs": []
    },
    {
      "cell_type": "code",
      "source": [
        "## Accessing the vocabulary extracted from the data\n",
        "\n",
        "model.build_vocab(story)"
      ],
      "metadata": {
        "id": "2RiXK2uMsa_B"
      },
      "execution_count": null,
      "outputs": []
    },
    {
      "cell_type": "code",
      "source": [
        "## Training the model\n",
        "\n",
        "model.train(story, total_examples = model.corpus_count, epochs = model.epochs)"
      ],
      "metadata": {
        "colab": {
          "base_uri": "https://localhost:8080/"
        },
        "id": "kwKefvc-tspB",
        "outputId": "1ad6e359-2d14-4566-a336-9be8a1acb4f0"
      },
      "execution_count": null,
      "outputs": [
        {
          "output_type": "execute_result",
          "data": {
            "text/plain": [
              "(6569763, 8628190)"
            ]
          },
          "metadata": {},
          "execution_count": 24
        }
      ]
    },
    {
      "cell_type": "code",
      "source": [
        "## Retrieving nearest 10 vectors\n",
        "\n",
        "model.wv.most_similar('daenerys')"
      ],
      "metadata": {
        "colab": {
          "base_uri": "https://localhost:8080/"
        },
        "id": "-XxQZOwvt8h2",
        "outputId": "8d89aa40-d329-4a9c-b134-0959e4596f12"
      },
      "execution_count": null,
      "outputs": [
        {
          "output_type": "execute_result",
          "data": {
            "text/plain": [
              "[('stormborn', 0.7850717306137085),\n",
              " ('targaryen', 0.7655467987060547),\n",
              " ('myrcella', 0.7416543960571289),\n",
              " ('dorne', 0.7113109230995178),\n",
              " ('princess', 0.7105645537376404),\n",
              " ('margaery', 0.7034800052642822),\n",
              " ('queen', 0.6914587616920471),\n",
              " ('viserys', 0.6822835803031921),\n",
              " ('unburnt', 0.6705028414726257),\n",
              " ('rhaella', 0.65590900182724)]"
            ]
          },
          "metadata": {},
          "execution_count": 25
        }
      ]
    },
    {
      "cell_type": "code",
      "source": [
        "## Retrieving the vector for the trained word\n",
        "\n",
        "model.wv['king']"
      ],
      "metadata": {
        "colab": {
          "base_uri": "https://localhost:8080/"
        },
        "id": "14YX_WV8wM34",
        "outputId": "6363484a-3d22-4a6f-f926-9c019c3eff39"
      },
      "execution_count": null,
      "outputs": [
        {
          "output_type": "execute_result",
          "data": {
            "text/plain": [
              "array([ 2.0044434 , -1.3334115 ,  2.3665369 ,  1.9395659 , -1.5270824 ,\n",
              "        1.8722533 , -0.09062389,  1.0531173 , -1.7010077 ,  0.63218117,\n",
              "       -3.33517   , -0.4679368 , -0.46909627,  2.4590242 , -3.1610658 ,\n",
              "       -1.9523765 , -0.05663236,  2.034011  ,  1.5820497 ,  2.5319326 ,\n",
              "        1.8213822 , -0.23190923,  3.2773807 , -1.3212088 , -2.9136882 ,\n",
              "        0.1296916 , -0.65638983, -1.065017  , -0.5013048 ,  2.5614657 ,\n",
              "       -0.9950447 ,  0.3879037 , -0.11604475, -0.5205325 ,  0.46090215,\n",
              "       -2.4844227 , -1.0623183 , -1.3197705 ,  2.7751527 , -1.9856408 ,\n",
              "        0.6575546 ,  3.1018395 ,  4.9479446 , -1.8347936 , -2.4092927 ,\n",
              "        0.71071875,  1.0666486 , -3.313397  ,  2.085492  , -2.881017  ,\n",
              "       -1.6405715 ,  0.4861118 , -2.0324476 , -1.5522114 ,  1.2558539 ,\n",
              "       -2.106447  ,  1.2218199 ,  2.4488597 ,  1.7806257 ,  0.99965644,\n",
              "        2.383822  ,  2.0032134 ,  0.9686159 ,  1.3347051 ,  0.08887366,\n",
              "        2.6856906 , -0.82373554, -0.90374583, -0.5043508 ,  0.8884152 ,\n",
              "        0.17827451,  3.4224925 ,  3.1376202 , -2.0245302 ,  2.452417  ,\n",
              "        0.66009444, -0.2304017 , -2.3244507 ,  0.1455612 , -1.7829466 ,\n",
              "       -1.0236974 ,  3.5337555 , -2.1743736 , -0.65424013, -2.6405568 ,\n",
              "       -1.4672269 ,  0.77077866,  2.5582857 ,  0.31259754, -1.0286504 ,\n",
              "       -0.88151485,  0.77608496,  0.5382119 , -2.285964  ,  0.08061166,\n",
              "       -2.2139428 , -0.01501128, -0.4449627 , -0.21534227,  1.9214574 ],\n",
              "      dtype=float32)"
            ]
          },
          "metadata": {},
          "execution_count": 26
        }
      ]
    },
    {
      "cell_type": "code",
      "source": [
        "## Finding the odd one out of the list\n",
        "\n",
        "model.wv.doesnt_match(['jon','robb','arya','sansa','bran'])"
      ],
      "metadata": {
        "colab": {
          "base_uri": "https://localhost:8080/",
          "height": 35
        },
        "id": "p-_aTqsGwQwY",
        "outputId": "a2a8a50e-4b4b-4120-8e81-b2d4c710ac2e"
      },
      "execution_count": null,
      "outputs": [
        {
          "output_type": "execute_result",
          "data": {
            "text/plain": [
              "'jon'"
            ],
            "application/vnd.google.colaboratory.intrinsic+json": {
              "type": "string"
            }
          },
          "metadata": {},
          "execution_count": 28
        }
      ]
    },
    {
      "cell_type": "code",
      "source": [
        "## Calculating the similarity between two tokens\n",
        "\n",
        "model.wv.similarity('daenerys','jon')"
      ],
      "metadata": {
        "colab": {
          "base_uri": "https://localhost:8080/"
        },
        "id": "xINgwku3wY6d",
        "outputId": "cf0d4a52-9817-42ad-d5a2-cb9dc0490a20"
      },
      "execution_count": null,
      "outputs": [
        {
          "output_type": "execute_result",
          "data": {
            "text/plain": [
              "-0.102016374"
            ]
          },
          "metadata": {},
          "execution_count": 29
        }
      ]
    },
    {
      "cell_type": "code",
      "source": [],
      "metadata": {
        "id": "6bOXPmzYvEYU"
      },
      "execution_count": null,
      "outputs": []
    }
  ]
}